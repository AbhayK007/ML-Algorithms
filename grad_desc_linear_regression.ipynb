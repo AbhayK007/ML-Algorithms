{
  "nbformat": 4,
  "nbformat_minor": 0,
  "metadata": {
    "colab": {
      "name": "grad_desc_linear_regression.ipynb",
      "provenance": [],
      "authorship_tag": "ABX9TyPdySFpifGDVPY1VFjO32v3",
      "include_colab_link": true
    },
    "kernelspec": {
      "name": "python3",
      "display_name": "Python 3"
    },
    "language_info": {
      "name": "python"
    }
  },
  "cells": [
    {
      "cell_type": "markdown",
      "metadata": {
        "id": "view-in-github",
        "colab_type": "text"
      },
      "source": [
        "<a href=\"https://colab.research.google.com/github/AbhayK007/ML-Algorithms/blob/main/grad_desc_linear_regression.ipynb\" target=\"_parent\"><img src=\"https://colab.research.google.com/assets/colab-badge.svg\" alt=\"Open In Colab\"/></a>"
      ]
    },
    {
      "cell_type": "code",
      "metadata": {
        "id": "rspVCezi3uCZ"
      },
      "source": [
        "import numpy as np\n",
        "import matplotlib.pyplot as plt"
      ],
      "execution_count": null,
      "outputs": []
    },
    {
      "cell_type": "code",
      "metadata": {
        "id": "48lhw9d4-xIV"
      },
      "source": [
        "def grad_desc(x_train,y_train):\n",
        "  m_curr=0\n",
        "  c_curr=0\n",
        "  n= len(x_train)\n",
        "  rate=0.0001\n",
        "  cost=0\n",
        "  for i in range(100000):\n",
        "    y_pred=m_curr*x_train+c_curr\n",
        "    cost=(2/n)*sum((y_train-y_pred)**2)\n",
        "    md=-(2/n)*sum(x_train*(y_train-y_pred))\n",
        "    cd=-(2/n)*sum(y_train-y_pred)\n",
        "    m_curr=m_curr- rate*md \n",
        "    c_curr=c_curr- rate*cd \n",
        "  print(m_curr)\n",
        "  print(c_curr)\n",
        "  print(cost)\n",
        "  return m_curr,c_curr,cost"
      ],
      "execution_count": null,
      "outputs": []
    },
    {
      "cell_type": "code",
      "metadata": {
        "id": "1a6I--tD3yZq"
      },
      "source": [
        "x = np.array([1,4,7,9,12,15])\n",
        "y=np.array([9,42,83,88,125,144])\n"
      ],
      "execution_count": null,
      "outputs": []
    },
    {
      "cell_type": "code",
      "metadata": {
        "colab": {
          "base_uri": "https://localhost:8080/"
        },
        "id": "k6mnIlXV8C9K",
        "outputId": "017ad559-f27e-4b28-cc73-bdea6f7a647d"
      },
      "source": [
        "m,c,costt = grad_desc(x,y) "
      ],
      "execution_count": null,
      "outputs": [
        {
          "output_type": "stream",
          "text": [
            "9.713993770990642\n",
            "4.1162929916453415\n",
            "69.29818592360324\n"
          ],
          "name": "stdout"
        }
      ]
    },
    {
      "cell_type": "code",
      "metadata": {
        "colab": {
          "base_uri": "https://localhost:8080/"
        },
        "id": "08qWopm38vIn",
        "outputId": "50a58f19-5f05-4d96-c54a-16700d5ae2c5"
      },
      "source": [
        "m*5+c"
      ],
      "execution_count": null,
      "outputs": [
        {
          "output_type": "execute_result",
          "data": {
            "text/plain": [
              "52.686261846598555"
            ]
          },
          "metadata": {
            "tags": []
          },
          "execution_count": 5
        }
      ]
    },
    {
      "cell_type": "code",
      "metadata": {
        "id": "-TCJE6vYChEk",
        "colab": {
          "base_uri": "https://localhost:8080/",
          "height": 312
        },
        "outputId": "92abd2ef-50b7-4828-8eb4-cc117697d029"
      },
      "source": [
        "plt.scatter(x,y)\n",
        "x1=np.linspace(0,16,100)\n",
        "y1=m*x1+c\n",
        "plt.plot(x1,y1,label='predicted',color='red')\n",
        "plt.xlabel('x-axis')\n",
        "plt.ylabel('y-axis')\n",
        "plt.title('Linear Regression')\n",
        "plt.legend()\n"
      ],
      "execution_count": null,
      "outputs": [
        {
          "output_type": "execute_result",
          "data": {
            "text/plain": [
              "<matplotlib.legend.Legend at 0x7f7395580410>"
            ]
          },
          "metadata": {
            "tags": []
          },
          "execution_count": 14
        },
        {
          "output_type": "display_data",
          "data": {
            "image/png": "[encoded data removed]",
            "text/plain": [
              "<Figure size 432x288 with 1 Axes>"
            ]
          },
          "metadata": {
            "tags": [],
            "needs_background": "light"
          }
        }
      ]
    },
    {
      "cell_type": "code",
      "metadata": {
        "id": "zpxWXHaSo1hW"
      },
      "source": [
        ""
      ],
      "execution_count": null,
      "outputs": []
    }
  ]
}